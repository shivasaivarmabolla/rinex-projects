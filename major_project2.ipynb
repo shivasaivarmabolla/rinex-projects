{
  "nbformat": 4,
  "nbformat_minor": 0,
  "metadata": {
    "colab": {
      "provenance": [],
      "collapsed_sections": [],
      "authorship_tag": "ABX9TyOm1xGVHj7zrUBTjSNOgXbd",
      "include_colab_link": true
    },
    "kernelspec": {
      "name": "python3",
      "display_name": "Python 3"
    },
    "language_info": {
      "name": "python"
    }
  },
  "cells": [
    {
      "cell_type": "markdown",
      "metadata": {
        "id": "view-in-github",
        "colab_type": "text"
      },
      "source": [
        "<a href=\"https://colab.research.google.com/github/shivasaivarmabolla/rinex-projects/blob/main/major_project2.ipynb\" target=\"_parent\"><img src=\"https://colab.research.google.com/assets/colab-badge.svg\" alt=\"Open In Colab\"/></a>"
      ]
    },
    {
      "cell_type": "code",
      "execution_count": null,
      "metadata": {
        "id": "7xPAI7Nq63zK"
      },
      "outputs": [],
      "source": [
        "#1.Read an image and display it\n",
        "\n",
        "import cv2                     #Importing opencv library\n",
        "image = cv2.imread('rose.jpg') #Reading the image and storing in variable 'image'\n",
        "cv2.imshow('rose.jpg',image)   #Displaying the image\n",
        "cv2.waitkey(0)\n",
        "cv2.destroyAllWindows()"
      ]
    },
    {
      "cell_type": "code",
      "source": [
        "#2.Creating a duplicate  image\n",
        "import cv2\n",
        "image = cv2.imread('rose.jpg') #Reading the image\n",
        "cv2.imshow('OUTPUT1',image)    #Displayong the image\n",
        "cv2.imwrite('flower.png',image)#we create a new image and download it\n",
        "cv2.waitkey(0)\n",
        "cv2.destroyAllWindows()\n"
      ],
      "metadata": {
        "id": "xerqW-WH9Loo"
      },
      "execution_count": null,
      "outputs": []
    },
    {
      "cell_type": "code",
      "source": [
        "#3.Read the information about the image\n",
        "import cv2   #importing the opencv library\n",
        "image = cv2.imread('rose.jpg') #reading the image\n",
        "print(image.shape)\n",
        "\n",
        "#output:\n",
        "#(400, 722, 3)\n",
        "#400 - Height of thw image in Pixels\n",
        "#772 - Width of the image in pixels\n",
        "#3 - Channel number/depth(3 colors -RGB)"
      ],
      "metadata": {
        "id": "N15Jk_KtWdm_"
      },
      "execution_count": null,
      "outputs": []
    },
    {
      "cell_type": "code",
      "source": [
        "#4.GRAYSCALE IMAGE - BLACK and WHITE\n",
        "import cv2\n",
        "img = cv2.imread('rose.jpg',0)#0 here converts the image into grayscale\n",
        "cv2.imshow('GRAY SCALE IMAGE',img)\n",
        "\n",
        "cv2.waitKey(0)\n",
        "cv2.destroyAllWindows()"
      ],
      "metadata": {
        "id": "aPDusqueZaLK"
      },
      "execution_count": null,
      "outputs": []
    },
    {
      "cell_type": "code",
      "source": [
        "#5.BINARY IMAGE CONVERSION(HIGH CONTRAST)\n",
        "import cv2   #importing opencv library\n",
        "img = cv2.imread('rose.jpg',0)#0 converts image into grayscale\n",
        "cv2.imshow('GRAY SCALE IMAGE',img)  #printing the grayscale image\n",
        "cv2.waitKey(2000)\n",
        "\n",
        "\n",
        "ret,binary = cv2.threshold(img,127,255,cv2.THRESH_BINARY)\n",
        "#ret,binary are the 2 variables to be taken .Ret is a dummy variable\n",
        "#and Binary is the actual variable \n",
        "\n",
        "\n",
        "cv2.imshow('Binary',binary) #printing the binary image\n",
        "cv2.waitKey(0)\n",
        "cv2.destroyAllWindows()\n"
      ],
      "metadata": {
        "id": "5R5o3dxBZY2e"
      },
      "execution_count": null,
      "outputs": []
    },
    {
      "cell_type": "code",
      "source": [
        "#6.EDGE DETECTION - THERE ARE 3 TYPES\n",
        "\n",
        "#1.SOBEL\n",
        "import cv2\n",
        "img = cv2.imread('123.png',0)#0 converts image into grayscale\n",
        "\n",
        "sobel_x = cv2.Sobel(img,cv2.CV_8U,dx = 1,dy = 0 ,ksize = -1)  #CV_8U - unsigned 8bit/pixel\n",
        "sobel_y = cv2.Sobel(img,cv2.CV_8U,dx = 0,dy = 1 ,ksize = -1)\n",
        "sobel = cv2.bitwise_or(sobel_x,sobel_y)\n",
        "\n",
        "cv2.imshow('Sobel X Image',sobel_x)  #printing the sobel_x \n",
        "cv2.imshow('Sobel Y Image',sobel_y)  #printing the sobel_y\n",
        "cv2.imshow('Sobel Image',sobel)      #printing the sobel \n",
        "\n",
        "cv2.waitKey(0)\n",
        "cv2.destroyAllWindows()\n",
        "\n",
        "#2.LAPLACIAN  \n",
        "import cv2\n",
        "img = cv2.imread('shiva.jpg',0)\n",
        "\n",
        "laplacian = cv2.Laplacian(img,cv2.CV_8U)\n",
        "cv2.imshow('LAPLACIAN IMAGE',laplacian)\n",
        "\n",
        "#3.CANNY\n",
        "canny = cv2.Canny(img,125,200)\n",
        "cv2.imshow('Canny Image',canny)\n",
        "\n",
        "cv2.waitKey(0)\n",
        "cv2.destroyAllWindows()"
      ],
      "metadata": {
        "id": "ALeiNCeDwbWC"
      },
      "execution_count": null,
      "outputs": []
    },
    {
      "cell_type": "code",
      "source": [
        "#7.RESIZE / SCALING the image\n",
        "\n",
        "import cv2    #importing open cv library\n",
        "import numpy as np #Importing numpy\n",
        "image = cv2.imread('jkl.jpg') #reading the image\n",
        "cv2.imshow('Original Image',image) #printing the image with title Original image\n",
        "cv2.waitKey(500)\n",
        "\n",
        "\n",
        "#Now let us reduce the scale of our image from 100 to 20%\n",
        "image_1 = cv2.resize(image,None,fx = 0.20,fy = 0.20)\n",
        "cv2.imshow('Scale down',image) #printing the image with title Scale down\n",
        "\n",
        "#Now let us increase the scale of our image from 100 to 120%\n",
        "image_2 = cv2.resize(image,None,fx = 1.2,fy = 1.2)\n",
        "cv2.imshow('Scale up',image) #printing the image with title scale up\n",
        "\n",
        "#Now let us give custom dimensions(length and width given in pixels)\n",
        "image_3 = cv2.resize(image,(200,50))\n",
        "cv2.imshow('Custom Dimensions',image) #printing the image with title Custom Dimensions\n",
        "\n",
        "cv2.waitKey(0)\n",
        "cv2.destroyAllWindows()"
      ],
      "metadata": {
        "id": "wDzzKhNYZq_1"
      },
      "execution_count": null,
      "outputs": []
    },
    {
      "cell_type": "code",
      "source": [
        "#8.RECTANGLE/SQUARE\n",
        "\n",
        "import cv2\n",
        "import numpy as np\n",
        "\n",
        "img = np.zeros((500,600,3))  #(length,width,thickness)\n",
        "\n",
        "#src,starting point,end point,color,thickness\n",
        "cv2.rectangle(img,(200,200),(500,500),(225,0,0),5)\n",
        "              #(source,starting point,ending point,color)\n",
        "\n",
        "cv2.imshow('Rectangle',img)  #print the img with title Rectangle \n",
        "cv2.waitKey(0)\n",
        "cv2.destroyAllWindows()"
      ],
      "metadata": {
        "id": "_186hD7_xxAW"
      },
      "execution_count": null,
      "outputs": []
    },
    {
      "cell_type": "code",
      "source": [
        "#9.TO PUT THE TEXT in black background\n",
        "import cv2   #Importing the opencv library\n",
        "import numpy as np  #importing numpy library\n",
        "img = np.zeros((500,500,3))  #dimensions for img (500,500,3), zeros for black background\n",
        "\n",
        "name = input('Enter the name:') \n",
        "\n",
        "#(50,50) is for locting value of variable name\n",
        "#FONT_HERSHEY_TRIPLEX - font style\n",
        "#(0,225,0) - green color (text color)\n",
        "#1 - stroke\n",
        "cv2.putText(img,name,(50,50),cv2.FONT_HERSHEY_TRIPLEX,1,(0,225,0),1)\n",
        "\n",
        "cv2.imshow('IMAGE',img) #showing the img with title IMAGE \n",
        "cv2.waitKey(0)\n",
        "cv2.destroyAllWindows()"
      ],
      "metadata": {
        "id": "aZDPMMjzm55t"
      },
      "execution_count": null,
      "outputs": []
    },
    {
      "cell_type": "code",
      "source": [
        "#10.LIVE SKETCH FROM WEBCAM\n",
        "import cv2\n",
        "\n",
        "capture = cv2.VideoCapture(0) #0 reserves the default web cam port and 1 for pc or external cam\n",
        "\n",
        "while True:\n",
        "    ret,frame = capture.read() # so it is reading the video from the cap variable\n",
        "    #ret and frame are 2 variables to be taken ,BUt onlt frame will be used\n",
        "    #ret is dummy\n",
        "    cv2.imshow('My Live Sketch',frame)\n",
        "    if cv2.waitKey(1) == 13:\n",
        "        break\n",
        "\n",
        "capture.release() #It releases the port which was reserved\n",
        "#If capture.release is not done , it might corrupt your webcam drivers\n",
        "cv2.destroyAllWindows()"
      ],
      "metadata": {
        "id": "tMleiHj_piMA"
      },
      "execution_count": null,
      "outputs": []
    },
    {
      "cell_type": "code",
      "source": [
        "#11.MY CANNY SKETCH(EDGE DETECTION)\n",
        "import cv2\n",
        "\n",
        "cap = cv2.VideoCapture(0) #0 reserves the default web cam port and 1 for pc or external cam\n",
        "\n",
        "\n",
        "while True:\n",
        "    ret,frame = cap.read()  # so it is reading the video from the cap variable\n",
        "    #ret and frame are 2 variables to be taken ,BUt onlt frame will be used\n",
        "    #ret is dummy\n",
        "    canny = cv2.Canny(frame,20,159)\n",
        "    cv2.imshow('My Live Sketch',canny)\n",
        "    if cv2.waitKey(1) == ord('q'):\n",
        "        break\n",
        "cap.release()#It releases the port which was reserved\n",
        "#If cap.release is not done , it might corrupt your webcam drivers\n",
        "cv2.destroyAllWindows()"
      ],
      "metadata": {
        "id": "lyPXmEt0qWrU"
      },
      "execution_count": null,
      "outputs": []
    },
    {
      "cell_type": "code",
      "source": [
        "#12.FACE DETECTION IN AN IMAGE\n",
        "import cv2\n",
        "\n",
        "face_cascade = cv2.CascadeClassifier('haarcascade_frontalface_default.xml')#importing haarcascade mode\n",
        "img = cv2.imread('people.jpg')\n",
        "gray = cv2.cvtColor(img,cv2.COLOR_BGR2GRAY)\n",
        "\n",
        "faces = face_cascade.detectMultiScale(gray,1.1,9)\n",
        "#1.1 - ScalerFactor,9 is minNeighbors  -- Tuning Parameters\n",
        "\n",
        "\n",
        "for x,y,w,h in faces:\n",
        "    img = cv2.rectangle(img,(x,y),(x+w,y+h),(0,255,0),5)\n",
        "        #cv2.rectangle(src,start pt,end pt,color,thickness)\n",
        "\n",
        "\n",
        "cv2.imshow('Face Detection',img)\n",
        "cv2.waitKey(0)\n",
        "cv2.destroyAllWindows()"
      ],
      "metadata": {
        "id": "c1CZxUbVtSRW"
      },
      "execution_count": null,
      "outputs": []
    }
  ]
}