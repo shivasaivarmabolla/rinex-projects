{
  "nbformat": 4,
  "nbformat_minor": 0,
  "metadata": {
    "colab": {
      "provenance": [],
      "collapsed_sections": [],
      "authorship_tag": "ABX9TyOapCoyOtbv6YqaZdleGLeh",
      "include_colab_link": true
    },
    "kernelspec": {
      "name": "python3",
      "display_name": "Python 3"
    },
    "language_info": {
      "name": "python"
    }
  },
  "cells": [
    {
      "cell_type": "markdown",
      "metadata": {
        "id": "view-in-github",
        "colab_type": "text"
      },
      "source": [
        "<a href=\"https://colab.research.google.com/github/shivasaivarmabolla/rinex-projects/blob/main/MAJOR_PROJECT_1.ipynb\" target=\"_parent\"><img src=\"https://colab.research.google.com/assets/colab-badge.svg\" alt=\"Open In Colab\"/></a>"
      ]
    },
    {
      "cell_type": "code",
      "source": [
        "#1. Take data and create a DATAFRAME\n",
        "\n",
        "import pandas as pd\n",
        "df = pd.read_csv('/content/ElectricCarData_Clean.csv')\n",
        "df"
      ],
      "metadata": {
        "colab": {
          "base_uri": "https://localhost:8080/",
          "height": 424
        },
        "id": "E0dKZm0u86qu",
        "outputId": "39882941-a205-4de9-97aa-080ee7f79b0b"
      },
      "execution_count": null,
      "outputs": [
        {
          "output_type": "execute_result",
          "data": {
            "text/plain": [
              "           Brand                            Model  AccelSec  TopSpeed_KmH  \\\n",
              "0         Tesla     Model 3 Long Range Dual Motor       4.6           233   \n",
              "1    Volkswagen                         ID.3 Pure      10.0           160   \n",
              "2      Polestar                                 2       4.7           210   \n",
              "3           BMW                              iX3        6.8           180   \n",
              "4         Honda                                e        9.5           145   \n",
              "..           ...                              ...       ...           ...   \n",
              "98       Nissan                       Ariya 63kWh       7.5           160   \n",
              "99         Audi     e-tron S Sportback 55 quattro       4.5           210   \n",
              "100      Nissan               Ariya e-4ORCE 63kWh       5.9           200   \n",
              "101      Nissan   Ariya e-4ORCE 87kWh Performance       5.1           200   \n",
              "102       Byton                 M-Byte 95 kWh 2WD       7.5           190   \n",
              "\n",
              "     Range_Km FastCharge_KmH RapidCharge PowerTrain  Seats  PriceEuro  \\\n",
              "0         450            940         Yes        AWD      5      55480   \n",
              "1         270            250         Yes        RWD      5      30000   \n",
              "2         400            620         Yes        AWD      5      56440   \n",
              "3         360            560         Yes        RWD      5      68040   \n",
              "4         170            190         Yes        RWD      4      32997   \n",
              "..        ...            ...         ...        ...    ...        ...   \n",
              "98        330            440         Yes        FWD      5      45000   \n",
              "99        335            540         Yes        AWD      5      96050   \n",
              "100       325            440         Yes        AWD      5      50000   \n",
              "101       375            450         Yes        AWD      5      65000   \n",
              "102       400            480         Yes        AWD      5      62000   \n",
              "\n",
              "     Efficiency_WhKm  \n",
              "0                161  \n",
              "1                167  \n",
              "2                181  \n",
              "3                206  \n",
              "4                168  \n",
              "..               ...  \n",
              "98               191  \n",
              "99               258  \n",
              "100              194  \n",
              "101              232  \n",
              "102              238  \n",
              "\n",
              "[103 rows x 11 columns]"
            ],
            "text/html": [
              "\n",
              "  <div id=\"df-93d85721-9220-4836-95aa-710dbe04696a\">\n",
              "    <div class=\"colab-df-container\">\n",
              "      <div>\n",
              "<style scoped>\n",
              "    .dataframe tbody tr th:only-of-type {\n",
              "        vertical-align: middle;\n",
              "    }\n",
              "\n",
              "    .dataframe tbody tr th {\n",
              "        vertical-align: top;\n",
              "    }\n",
              "\n",
              "    .dataframe thead th {\n",
              "        text-align: right;\n",
              "    }\n",
              "</style>\n",
              "<table border=\"1\" class=\"dataframe\">\n",
              "  <thead>\n",
              "    <tr style=\"text-align: right;\">\n",
              "      <th></th>\n",
              "      <th>Brand</th>\n",
              "      <th>Model</th>\n",
              "      <th>AccelSec</th>\n",
              "      <th>TopSpeed_KmH</th>\n",
              "      <th>Range_Km</th>\n",
              "      <th>FastCharge_KmH</th>\n",
              "      <th>RapidCharge</th>\n",
              "      <th>PowerTrain</th>\n",
              "      <th>Seats</th>\n",
              "      <th>PriceEuro</th>\n",
              "      <th>Efficiency_WhKm</th>\n",
              "    </tr>\n",
              "  </thead>\n",
              "  <tbody>\n",
              "    <tr>\n",
              "      <th>0</th>\n",
              "      <td>Tesla</td>\n",
              "      <td>Model 3 Long Range Dual Motor</td>\n",
              "      <td>4.6</td>\n",
              "      <td>233</td>\n",
              "      <td>450</td>\n",
              "      <td>940</td>\n",
              "      <td>Yes</td>\n",
              "      <td>AWD</td>\n",
              "      <td>5</td>\n",
              "      <td>55480</td>\n",
              "      <td>161</td>\n",
              "    </tr>\n",
              "    <tr>\n",
              "      <th>1</th>\n",
              "      <td>Volkswagen</td>\n",
              "      <td>ID.3 Pure</td>\n",
              "      <td>10.0</td>\n",
              "      <td>160</td>\n",
              "      <td>270</td>\n",
              "      <td>250</td>\n",
              "      <td>Yes</td>\n",
              "      <td>RWD</td>\n",
              "      <td>5</td>\n",
              "      <td>30000</td>\n",
              "      <td>167</td>\n",
              "    </tr>\n",
              "    <tr>\n",
              "      <th>2</th>\n",
              "      <td>Polestar</td>\n",
              "      <td>2</td>\n",
              "      <td>4.7</td>\n",
              "      <td>210</td>\n",
              "      <td>400</td>\n",
              "      <td>620</td>\n",
              "      <td>Yes</td>\n",
              "      <td>AWD</td>\n",
              "      <td>5</td>\n",
              "      <td>56440</td>\n",
              "      <td>181</td>\n",
              "    </tr>\n",
              "    <tr>\n",
              "      <th>3</th>\n",
              "      <td>BMW</td>\n",
              "      <td>iX3</td>\n",
              "      <td>6.8</td>\n",
              "      <td>180</td>\n",
              "      <td>360</td>\n",
              "      <td>560</td>\n",
              "      <td>Yes</td>\n",
              "      <td>RWD</td>\n",
              "      <td>5</td>\n",
              "      <td>68040</td>\n",
              "      <td>206</td>\n",
              "    </tr>\n",
              "    <tr>\n",
              "      <th>4</th>\n",
              "      <td>Honda</td>\n",
              "      <td>e</td>\n",
              "      <td>9.5</td>\n",
              "      <td>145</td>\n",
              "      <td>170</td>\n",
              "      <td>190</td>\n",
              "      <td>Yes</td>\n",
              "      <td>RWD</td>\n",
              "      <td>4</td>\n",
              "      <td>32997</td>\n",
              "      <td>168</td>\n",
              "    </tr>\n",
              "    <tr>\n",
              "      <th>...</th>\n",
              "      <td>...</td>\n",
              "      <td>...</td>\n",
              "      <td>...</td>\n",
              "      <td>...</td>\n",
              "      <td>...</td>\n",
              "      <td>...</td>\n",
              "      <td>...</td>\n",
              "      <td>...</td>\n",
              "      <td>...</td>\n",
              "      <td>...</td>\n",
              "      <td>...</td>\n",
              "    </tr>\n",
              "    <tr>\n",
              "      <th>98</th>\n",
              "      <td>Nissan</td>\n",
              "      <td>Ariya 63kWh</td>\n",
              "      <td>7.5</td>\n",
              "      <td>160</td>\n",
              "      <td>330</td>\n",
              "      <td>440</td>\n",
              "      <td>Yes</td>\n",
              "      <td>FWD</td>\n",
              "      <td>5</td>\n",
              "      <td>45000</td>\n",
              "      <td>191</td>\n",
              "    </tr>\n",
              "    <tr>\n",
              "      <th>99</th>\n",
              "      <td>Audi</td>\n",
              "      <td>e-tron S Sportback 55 quattro</td>\n",
              "      <td>4.5</td>\n",
              "      <td>210</td>\n",
              "      <td>335</td>\n",
              "      <td>540</td>\n",
              "      <td>Yes</td>\n",
              "      <td>AWD</td>\n",
              "      <td>5</td>\n",
              "      <td>96050</td>\n",
              "      <td>258</td>\n",
              "    </tr>\n",
              "    <tr>\n",
              "      <th>100</th>\n",
              "      <td>Nissan</td>\n",
              "      <td>Ariya e-4ORCE 63kWh</td>\n",
              "      <td>5.9</td>\n",
              "      <td>200</td>\n",
              "      <td>325</td>\n",
              "      <td>440</td>\n",
              "      <td>Yes</td>\n",
              "      <td>AWD</td>\n",
              "      <td>5</td>\n",
              "      <td>50000</td>\n",
              "      <td>194</td>\n",
              "    </tr>\n",
              "    <tr>\n",
              "      <th>101</th>\n",
              "      <td>Nissan</td>\n",
              "      <td>Ariya e-4ORCE 87kWh Performance</td>\n",
              "      <td>5.1</td>\n",
              "      <td>200</td>\n",
              "      <td>375</td>\n",
              "      <td>450</td>\n",
              "      <td>Yes</td>\n",
              "      <td>AWD</td>\n",
              "      <td>5</td>\n",
              "      <td>65000</td>\n",
              "      <td>232</td>\n",
              "    </tr>\n",
              "    <tr>\n",
              "      <th>102</th>\n",
              "      <td>Byton</td>\n",
              "      <td>M-Byte 95 kWh 2WD</td>\n",
              "      <td>7.5</td>\n",
              "      <td>190</td>\n",
              "      <td>400</td>\n",
              "      <td>480</td>\n",
              "      <td>Yes</td>\n",
              "      <td>AWD</td>\n",
              "      <td>5</td>\n",
              "      <td>62000</td>\n",
              "      <td>238</td>\n",
              "    </tr>\n",
              "  </tbody>\n",
              "</table>\n",
              "<p>103 rows × 11 columns</p>\n",
              "</div>\n",
              "      <button class=\"colab-df-convert\" onclick=\"convertToInteractive('df-93d85721-9220-4836-95aa-710dbe04696a')\"\n",
              "              title=\"Convert this dataframe to an interactive table.\"\n",
              "              style=\"display:none;\">\n",
              "        \n",
              "  <svg xmlns=\"http://www.w3.org/2000/svg\" height=\"24px\"viewBox=\"0 0 24 24\"\n",
              "       width=\"24px\">\n",
              "    <path d=\"M0 0h24v24H0V0z\" fill=\"none\"/>\n",
              "    <path d=\"M18.56 5.44l.94 2.06.94-2.06 2.06-.94-2.06-.94-.94-2.06-.94 2.06-2.06.94zm-11 1L8.5 8.5l.94-2.06 2.06-.94-2.06-.94L8.5 2.5l-.94 2.06-2.06.94zm10 10l.94 2.06.94-2.06 2.06-.94-2.06-.94-.94-2.06-.94 2.06-2.06.94z\"/><path d=\"M17.41 7.96l-1.37-1.37c-.4-.4-.92-.59-1.43-.59-.52 0-1.04.2-1.43.59L10.3 9.45l-7.72 7.72c-.78.78-.78 2.05 0 2.83L4 21.41c.39.39.9.59 1.41.59.51 0 1.02-.2 1.41-.59l7.78-7.78 2.81-2.81c.8-.78.8-2.07 0-2.86zM5.41 20L4 18.59l7.72-7.72 1.47 1.35L5.41 20z\"/>\n",
              "  </svg>\n",
              "      </button>\n",
              "      \n",
              "  <style>\n",
              "    .colab-df-container {\n",
              "      display:flex;\n",
              "      flex-wrap:wrap;\n",
              "      gap: 12px;\n",
              "    }\n",
              "\n",
              "    .colab-df-convert {\n",
              "      background-color: #E8F0FE;\n",
              "      border: none;\n",
              "      border-radius: 50%;\n",
              "      cursor: pointer;\n",
              "      display: none;\n",
              "      fill: #1967D2;\n",
              "      height: 32px;\n",
              "      padding: 0 0 0 0;\n",
              "      width: 32px;\n",
              "    }\n",
              "\n",
              "    .colab-df-convert:hover {\n",
              "      background-color: #E2EBFA;\n",
              "      box-shadow: 0px 1px 2px rgba(60, 64, 67, 0.3), 0px 1px 3px 1px rgba(60, 64, 67, 0.15);\n",
              "      fill: #174EA6;\n",
              "    }\n",
              "\n",
              "    [theme=dark] .colab-df-convert {\n",
              "      background-color: #3B4455;\n",
              "      fill: #D2E3FC;\n",
              "    }\n",
              "\n",
              "    [theme=dark] .colab-df-convert:hover {\n",
              "      background-color: #434B5C;\n",
              "      box-shadow: 0px 1px 3px 1px rgba(0, 0, 0, 0.15);\n",
              "      filter: drop-shadow(0px 1px 2px rgba(0, 0, 0, 0.3));\n",
              "      fill: #FFFFFF;\n",
              "    }\n",
              "  </style>\n",
              "\n",
              "      <script>\n",
              "        const buttonEl =\n",
              "          document.querySelector('#df-93d85721-9220-4836-95aa-710dbe04696a button.colab-df-convert');\n",
              "        buttonEl.style.display =\n",
              "          google.colab.kernel.accessAllowed ? 'block' : 'none';\n",
              "\n",
              "        async function convertToInteractive(key) {\n",
              "          const element = document.querySelector('#df-93d85721-9220-4836-95aa-710dbe04696a');\n",
              "          const dataTable =\n",
              "            await google.colab.kernel.invokeFunction('convertToInteractive',\n",
              "                                                     [key], {});\n",
              "          if (!dataTable) return;\n",
              "\n",
              "          const docLinkHtml = 'Like what you see? Visit the ' +\n",
              "            '<a target=\"_blank\" href=https://colab.research.google.com/notebooks/data_table.ipynb>data table notebook</a>'\n",
              "            + ' to learn more about interactive tables.';\n",
              "          element.innerHTML = '';\n",
              "          dataTable['output_type'] = 'display_data';\n",
              "          await google.colab.output.renderOutput(dataTable, element);\n",
              "          const docLink = document.createElement('div');\n",
              "          docLink.innerHTML = docLinkHtml;\n",
              "          element.appendChild(docLink);\n",
              "        }\n",
              "      </script>\n",
              "    </div>\n",
              "  </div>\n",
              "  "
            ]
          },
          "metadata": {},
          "execution_count": 3
        }
      ]
    },
    {
      "cell_type": "code",
      "source": [
        "df.info()"
      ],
      "metadata": {
        "id": "a0VVtuYD_dtp",
        "colab": {
          "base_uri": "https://localhost:8080/"
        },
        "outputId": "bcbd3120-22bb-48e4-955d-4f946517bf7a"
      },
      "execution_count": null,
      "outputs": [
        {
          "output_type": "stream",
          "name": "stdout",
          "text": [
            "<class 'pandas.core.frame.DataFrame'>\n",
            "RangeIndex: 103 entries, 0 to 102\n",
            "Data columns (total 11 columns):\n",
            " #   Column           Non-Null Count  Dtype  \n",
            "---  ------           --------------  -----  \n",
            " 0   Brand            103 non-null    object \n",
            " 1   Model            103 non-null    object \n",
            " 2   AccelSec         103 non-null    float64\n",
            " 3   TopSpeed_KmH     103 non-null    int64  \n",
            " 4   Range_Km         103 non-null    int64  \n",
            " 5   FastCharge_KmH   103 non-null    object \n",
            " 6   RapidCharge      103 non-null    object \n",
            " 7   PowerTrain       103 non-null    object \n",
            " 8   Seats            103 non-null    int64  \n",
            " 9   PriceEuro        103 non-null    int64  \n",
            " 10  Efficiency_WhKm  103 non-null    int64  \n",
            "dtypes: float64(1), int64(5), object(5)\n",
            "memory usage: 9.0+ KB\n"
          ]
        }
      ]
    },
    {
      "cell_type": "code",
      "source": [
        "\n",
        "\n",
        "\n",
        "\n",
        "\n",
        "#3.DATA VISUALISATION\n",
        "import seaborn as sns\n",
        "sns.distplot(df['Efficiency_WhKm']) #distribution plot"
      ],
      "metadata": {
        "colab": {
          "base_uri": "https://localhost:8080/",
          "height": 352
        },
        "id": "v2f4eyK3A5nT",
        "outputId": "c13052a5-05ea-444b-cdba-809ae85fdd0f"
      },
      "execution_count": null,
      "outputs": [
        {
          "output_type": "stream",
          "name": "stderr",
          "text": [
            "/usr/local/lib/python3.7/dist-packages/seaborn/distributions.py:2619: FutureWarning: `distplot` is a deprecated function and will be removed in a future version. Please adapt your code to use either `displot` (a figure-level function with similar flexibility) or `histplot` (an axes-level function for histograms).\n",
            "  warnings.warn(msg, FutureWarning)\n"
          ]
        },
        {
          "output_type": "execute_result",
          "data": {
            "text/plain": [
              "<matplotlib.axes._subplots.AxesSubplot at 0x7eff313653d0>"
            ]
          },
          "metadata": {},
          "execution_count": 5
        },
        {
          "output_type": "display_data",
          "data": {
            "text/plain": [
              "<Figure size 432x288 with 1 Axes>"
            ],
            "image/png": "[encoded data removed]"
          },
          "metadata": {
            "needs_background": "light"
          }
        }
      ]
    },
    {
      "cell_type": "code",
      "source": [
        "#We want to consider only the numeric data\n",
        "#So we will create a new dataframe with only numeric data\n",
        "df_numeric = df.select_dtypes(include = ['float64','int64'])\n",
        "df_numeric"
      ],
      "metadata": {
        "colab": {
          "base_uri": "https://localhost:8080/",
          "height": 424
        },
        "id": "dY3mBQDvBk-7",
        "outputId": "ddb7f1e6-8aa7-4bec-dfef-3e6ba7b7bced"
      },
      "execution_count": null,
      "outputs": [
        {
          "output_type": "execute_result",
          "data": {
            "text/plain": [
              "     AccelSec  TopSpeed_KmH  Range_Km  Seats  PriceEuro  Efficiency_WhKm\n",
              "0         4.6           233       450      5      55480              161\n",
              "1        10.0           160       270      5      30000              167\n",
              "2         4.7           210       400      5      56440              181\n",
              "3         6.8           180       360      5      68040              206\n",
              "4         9.5           145       170      4      32997              168\n",
              "..        ...           ...       ...    ...        ...              ...\n",
              "98        7.5           160       330      5      45000              191\n",
              "99        4.5           210       335      5      96050              258\n",
              "100       5.9           200       325      5      50000              194\n",
              "101       5.1           200       375      5      65000              232\n",
              "102       7.5           190       400      5      62000              238\n",
              "\n",
              "[103 rows x 6 columns]"
            ],
            "text/html": [
              "\n",
              "  <div id=\"df-356ef960-4e11-4ba5-aad2-2ed3b2458123\">\n",
              "    <div class=\"colab-df-container\">\n",
              "      <div>\n",
              "<style scoped>\n",
              "    .dataframe tbody tr th:only-of-type {\n",
              "        vertical-align: middle;\n",
              "    }\n",
              "\n",
              "    .dataframe tbody tr th {\n",
              "        vertical-align: top;\n",
              "    }\n",
              "\n",
              "    .dataframe thead th {\n",
              "        text-align: right;\n",
              "    }\n",
              "</style>\n",
              "<table border=\"1\" class=\"dataframe\">\n",
              "  <thead>\n",
              "    <tr style=\"text-align: right;\">\n",
              "      <th></th>\n",
              "      <th>AccelSec</th>\n",
              "      <th>TopSpeed_KmH</th>\n",
              "      <th>Range_Km</th>\n",
              "      <th>Seats</th>\n",
              "      <th>PriceEuro</th>\n",
              "      <th>Efficiency_WhKm</th>\n",
              "    </tr>\n",
              "  </thead>\n",
              "  <tbody>\n",
              "    <tr>\n",
              "      <th>0</th>\n",
              "      <td>4.6</td>\n",
              "      <td>233</td>\n",
              "      <td>450</td>\n",
              "      <td>5</td>\n",
              "      <td>55480</td>\n",
              "      <td>161</td>\n",
              "    </tr>\n",
              "    <tr>\n",
              "      <th>1</th>\n",
              "      <td>10.0</td>\n",
              "      <td>160</td>\n",
              "      <td>270</td>\n",
              "      <td>5</td>\n",
              "      <td>30000</td>\n",
              "      <td>167</td>\n",
              "    </tr>\n",
              "    <tr>\n",
              "      <th>2</th>\n",
              "      <td>4.7</td>\n",
              "      <td>210</td>\n",
              "      <td>400</td>\n",
              "      <td>5</td>\n",
              "      <td>56440</td>\n",
              "      <td>181</td>\n",
              "    </tr>\n",
              "    <tr>\n",
              "      <th>3</th>\n",
              "      <td>6.8</td>\n",
              "      <td>180</td>\n",
              "      <td>360</td>\n",
              "      <td>5</td>\n",
              "      <td>68040</td>\n",
              "      <td>206</td>\n",
              "    </tr>\n",
              "    <tr>\n",
              "      <th>4</th>\n",
              "      <td>9.5</td>\n",
              "      <td>145</td>\n",
              "      <td>170</td>\n",
              "      <td>4</td>\n",
              "      <td>32997</td>\n",
              "      <td>168</td>\n",
              "    </tr>\n",
              "    <tr>\n",
              "      <th>...</th>\n",
              "      <td>...</td>\n",
              "      <td>...</td>\n",
              "      <td>...</td>\n",
              "      <td>...</td>\n",
              "      <td>...</td>\n",
              "      <td>...</td>\n",
              "    </tr>\n",
              "    <tr>\n",
              "      <th>98</th>\n",
              "      <td>7.5</td>\n",
              "      <td>160</td>\n",
              "      <td>330</td>\n",
              "      <td>5</td>\n",
              "      <td>45000</td>\n",
              "      <td>191</td>\n",
              "    </tr>\n",
              "    <tr>\n",
              "      <th>99</th>\n",
              "      <td>4.5</td>\n",
              "      <td>210</td>\n",
              "      <td>335</td>\n",
              "      <td>5</td>\n",
              "      <td>96050</td>\n",
              "      <td>258</td>\n",
              "    </tr>\n",
              "    <tr>\n",
              "      <th>100</th>\n",
              "      <td>5.9</td>\n",
              "      <td>200</td>\n",
              "      <td>325</td>\n",
              "      <td>5</td>\n",
              "      <td>50000</td>\n",
              "      <td>194</td>\n",
              "    </tr>\n",
              "    <tr>\n",
              "      <th>101</th>\n",
              "      <td>5.1</td>\n",
              "      <td>200</td>\n",
              "      <td>375</td>\n",
              "      <td>5</td>\n",
              "      <td>65000</td>\n",
              "      <td>232</td>\n",
              "    </tr>\n",
              "    <tr>\n",
              "      <th>102</th>\n",
              "      <td>7.5</td>\n",
              "      <td>190</td>\n",
              "      <td>400</td>\n",
              "      <td>5</td>\n",
              "      <td>62000</td>\n",
              "      <td>238</td>\n",
              "    </tr>\n",
              "  </tbody>\n",
              "</table>\n",
              "<p>103 rows × 6 columns</p>\n",
              "</div>\n",
              "      <button class=\"colab-df-convert\" onclick=\"convertToInteractive('df-356ef960-4e11-4ba5-aad2-2ed3b2458123')\"\n",
              "              title=\"Convert this dataframe to an interactive table.\"\n",
              "              style=\"display:none;\">\n",
              "        \n",
              "  <svg xmlns=\"http://www.w3.org/2000/svg\" height=\"24px\"viewBox=\"0 0 24 24\"\n",
              "       width=\"24px\">\n",
              "    <path d=\"M0 0h24v24H0V0z\" fill=\"none\"/>\n",
              "    <path d=\"M18.56 5.44l.94 2.06.94-2.06 2.06-.94-2.06-.94-.94-2.06-.94 2.06-2.06.94zm-11 1L8.5 8.5l.94-2.06 2.06-.94-2.06-.94L8.5 2.5l-.94 2.06-2.06.94zm10 10l.94 2.06.94-2.06 2.06-.94-2.06-.94-.94-2.06-.94 2.06-2.06.94z\"/><path d=\"M17.41 7.96l-1.37-1.37c-.4-.4-.92-.59-1.43-.59-.52 0-1.04.2-1.43.59L10.3 9.45l-7.72 7.72c-.78.78-.78 2.05 0 2.83L4 21.41c.39.39.9.59 1.41.59.51 0 1.02-.2 1.41-.59l7.78-7.78 2.81-2.81c.8-.78.8-2.07 0-2.86zM5.41 20L4 18.59l7.72-7.72 1.47 1.35L5.41 20z\"/>\n",
              "  </svg>\n",
              "      </button>\n",
              "      \n",
              "  <style>\n",
              "    .colab-df-container {\n",
              "      display:flex;\n",
              "      flex-wrap:wrap;\n",
              "      gap: 12px;\n",
              "    }\n",
              "\n",
              "    .colab-df-convert {\n",
              "      background-color: #E8F0FE;\n",
              "      border: none;\n",
              "      border-radius: 50%;\n",
              "      cursor: pointer;\n",
              "      display: none;\n",
              "      fill: #1967D2;\n",
              "      height: 32px;\n",
              "      padding: 0 0 0 0;\n",
              "      width: 32px;\n",
              "    }\n",
              "\n",
              "    .colab-df-convert:hover {\n",
              "      background-color: #E2EBFA;\n",
              "      box-shadow: 0px 1px 2px rgba(60, 64, 67, 0.3), 0px 1px 3px 1px rgba(60, 64, 67, 0.15);\n",
              "      fill: #174EA6;\n",
              "    }\n",
              "\n",
              "    [theme=dark] .colab-df-convert {\n",
              "      background-color: #3B4455;\n",
              "      fill: #D2E3FC;\n",
              "    }\n",
              "\n",
              "    [theme=dark] .colab-df-convert:hover {\n",
              "      background-color: #434B5C;\n",
              "      box-shadow: 0px 1px 3px 1px rgba(0, 0, 0, 0.15);\n",
              "      filter: drop-shadow(0px 1px 2px rgba(0, 0, 0, 0.3));\n",
              "      fill: #FFFFFF;\n",
              "    }\n",
              "  </style>\n",
              "\n",
              "      <script>\n",
              "        const buttonEl =\n",
              "          document.querySelector('#df-356ef960-4e11-4ba5-aad2-2ed3b2458123 button.colab-df-convert');\n",
              "        buttonEl.style.display =\n",
              "          google.colab.kernel.accessAllowed ? 'block' : 'none';\n",
              "\n",
              "        async function convertToInteractive(key) {\n",
              "          const element = document.querySelector('#df-356ef960-4e11-4ba5-aad2-2ed3b2458123');\n",
              "          const dataTable =\n",
              "            await google.colab.kernel.invokeFunction('convertToInteractive',\n",
              "                                                     [key], {});\n",
              "          if (!dataTable) return;\n",
              "\n",
              "          const docLinkHtml = 'Like what you see? Visit the ' +\n",
              "            '<a target=\"_blank\" href=https://colab.research.google.com/notebooks/data_table.ipynb>data table notebook</a>'\n",
              "            + ' to learn more about interactive tables.';\n",
              "          element.innerHTML = '';\n",
              "          dataTable['output_type'] = 'display_data';\n",
              "          await google.colab.output.renderOutput(dataTable, element);\n",
              "          const docLink = document.createElement('div');\n",
              "          docLink.innerHTML = docLinkHtml;\n",
              "          element.appendChild(docLink);\n",
              "        }\n",
              "      </script>\n",
              "    </div>\n",
              "  </div>\n",
              "  "
            ]
          },
          "metadata": {},
          "execution_count": 6
        }
      ]
    },
    {
      "cell_type": "code",
      "source": [
        "df_numeric.info()"
      ],
      "metadata": {
        "colab": {
          "base_uri": "https://localhost:8080/"
        },
        "id": "rI6nCRsFBqQ5",
        "outputId": "0afd84de-cd4f-4106-ca26-f21198168802"
      },
      "execution_count": null,
      "outputs": [
        {
          "output_type": "stream",
          "name": "stdout",
          "text": [
            "<class 'pandas.core.frame.DataFrame'>\n",
            "RangeIndex: 103 entries, 0 to 102\n",
            "Data columns (total 6 columns):\n",
            " #   Column           Non-Null Count  Dtype  \n",
            "---  ------           --------------  -----  \n",
            " 0   AccelSec         103 non-null    float64\n",
            " 1   TopSpeed_KmH     103 non-null    int64  \n",
            " 2   Range_Km         103 non-null    int64  \n",
            " 3   Seats            103 non-null    int64  \n",
            " 4   PriceEuro        103 non-null    int64  \n",
            " 5   Efficiency_WhKm  103 non-null    int64  \n",
            "dtypes: float64(1), int64(5)\n",
            "memory usage: 5.0 KB\n"
          ]
        }
      ]
    },
    {
      "cell_type": "code",
      "source": [
        "                 # 4.Divide into Input and Output "
      ],
      "metadata": {
        "id": "B0teDtBoG0vw"
      },
      "execution_count": null,
      "outputs": []
    },
    {
      "cell_type": "code",
      "source": [
        "#INPUT VALUES - Acceleration, Top speed, Range\n",
        "x = df_numeric.iloc[:,0:3].values\n",
        "x"
      ],
      "metadata": {
        "colab": {
          "base_uri": "https://localhost:8080/"
        },
        "id": "Qic-L0CvBu69",
        "outputId": "d37d50b1-92bb-46e0-f58c-bf506d9a7bd3"
      },
      "execution_count": null,
      "outputs": [
        {
          "output_type": "execute_result",
          "data": {
            "text/plain": [
              "array([[  4.6, 233. , 450. ],\n",
              "       [ 10. , 160. , 270. ],\n",
              "       [  4.7, 210. , 400. ],\n",
              "       [  6.8, 180. , 360. ],\n",
              "       [  9.5, 145. , 170. ],\n",
              "       [  2.8, 250. , 610. ],\n",
              "       [  9.6, 150. , 190. ],\n",
              "       [  8.1, 150. , 275. ],\n",
              "       [  5.6, 225. , 310. ],\n",
              "       [  6.3, 180. , 400. ],\n",
              "       [  5.1, 180. , 370. ],\n",
              "       [  7.9, 144. , 220. ],\n",
              "       [  7.9, 167. , 400. ],\n",
              "       [  4. , 200. , 450. ],\n",
              "       [  9.7, 165. , 250. ],\n",
              "       [  7.9, 160. , 440. ],\n",
              "       [  2.8, 260. , 375. ],\n",
              "       [ 11.9, 130. , 195. ],\n",
              "       [  8.2, 140. , 220. ],\n",
              "       [  7.3, 150. , 185. ],\n",
              "       [  8.1, 150. , 275. ],\n",
              "       [  5.1, 217. , 425. ],\n",
              "       [ 10. , 160. , 290. ],\n",
              "       [  3.5, 240. , 425. ],\n",
              "       [  3.4, 261. , 435. ],\n",
              "       [  7.5, 160. , 420. ],\n",
              "       [  9. , 160. , 350. ],\n",
              "       [  4.9, 180. , 375. ],\n",
              "       [  7.3, 150. , 235. ],\n",
              "       [  8.5, 150. , 250. ],\n",
              "       [  6.8, 190. , 280. ],\n",
              "       [  7.8, 167. , 370. ],\n",
              "       [ 11.4, 135. , 315. ],\n",
              "       [  3. , 210. , 750. ],\n",
              "       [  9. , 150. , 180. ],\n",
              "       [  7.3, 157. , 325. ],\n",
              "       [  7.5, 160. , 270. ],\n",
              "       [  6.5, 160. , 425. ],\n",
              "       [  9.5, 140. , 310. ],\n",
              "       [  5. , 200. , 350. ],\n",
              "       [  3.8, 250. , 515. ],\n",
              "       [  9.9, 155. , 255. ],\n",
              "       [  5.7, 200. , 380. ],\n",
              "       [ 12.3, 130. , 195. ],\n",
              "       [ 12.3, 130. , 195. ],\n",
              "       [  7.9, 167. , 365. ],\n",
              "       [  7.3, 150. , 335. ],\n",
              "       [  4. , 250. , 365. ],\n",
              "       [ 10. , 150. , 575. ],\n",
              "       [  9. , 150. , 335. ],\n",
              "       [  5.7, 200. , 365. ],\n",
              "       [  2.1, 410. , 970. ],\n",
              "       [  8.5, 150. , 255. ],\n",
              "       [  8.8, 160. , 420. ],\n",
              "       [  4.6, 250. , 450. ],\n",
              "       [  8.3, 145. , 170. ],\n",
              "       [  8.7, 150. , 250. ],\n",
              "       [ 12.6, 135. , 130. ],\n",
              "       [  9.7, 150. , 250. ],\n",
              "       [  2.5, 261. , 505. ],\n",
              "       [ 11.4, 135. , 255. ],\n",
              "       [  3.7, 241. , 410. ],\n",
              "       [  7.6, 160. , 440. ],\n",
              "       [  4.8, 200. , 365. ],\n",
              "       [  7. , 180. , 450. ],\n",
              "       [  4. , 250. , 425. ],\n",
              "       [ 14. , 123. , 190. ],\n",
              "       [  5. , 190. , 460. ],\n",
              "       [ 22.4, 130. , 160. ],\n",
              "       [  6. , 180. , 430. ],\n",
              "       [  6.9, 160. , 230. ],\n",
              "       [  7. , 160. , 400. ],\n",
              "       [  3.5, 250. , 385. ],\n",
              "       [  5.5, 190. , 390. ],\n",
              "       [  9. , 140. , 225. ],\n",
              "       [  9.8, 155. , 235. ],\n",
              "       [  6.3, 180. , 410. ],\n",
              "       [ 12.7, 130. ,  95. ],\n",
              "       [  6. , 180. , 340. ],\n",
              "       [  3.2, 260. , 390. ],\n",
              "       [  7.3, 160. , 340. ],\n",
              "       [  2.8, 250. , 440. ],\n",
              "       [ 11.6, 130. , 100. ],\n",
              "       [  6.6, 180. , 360. ],\n",
              "       [ 10. , 140. , 330. ],\n",
              "       [  9. , 150. , 250. ],\n",
              "       [  7. , 180. , 390. ],\n",
              "       [  6.8, 190. , 295. ],\n",
              "       [  6.2, 180. , 400. ],\n",
              "       [  9. , 160. , 320. ],\n",
              "       [  4.5, 210. , 320. ],\n",
              "       [ 11.9, 130. ,  95. ],\n",
              "       [  7.9, 167. , 365. ],\n",
              "       [  5.7, 200. , 420. ],\n",
              "       [  9. , 150. , 250. ],\n",
              "       [  7.3, 160. , 340. ],\n",
              "       [  9.9, 157. , 230. ],\n",
              "       [  7.5, 190. , 325. ],\n",
              "       [  7.5, 160. , 330. ],\n",
              "       [  4.5, 210. , 335. ],\n",
              "       [  5.9, 200. , 325. ],\n",
              "       [  5.1, 200. , 375. ],\n",
              "       [  7.5, 190. , 400. ]])"
            ]
          },
          "metadata": {},
          "execution_count": 10
        }
      ]
    },
    {
      "cell_type": "code",
      "source": [
        "#OUTPUT VALUES - Efficiency\n",
        "y = df_numeric.iloc[:,5]\n",
        "y"
      ],
      "metadata": {
        "colab": {
          "base_uri": "https://localhost:8080/"
        },
        "id": "R2XfWFXxCPaC",
        "outputId": "9a7a970a-4148-4816-ac08-03946a5aa0ca"
      },
      "execution_count": null,
      "outputs": [
        {
          "output_type": "execute_result",
          "data": {
            "text/plain": [
              "0      161\n",
              "1      167\n",
              "2      181\n",
              "3      206\n",
              "4      168\n",
              "      ... \n",
              "98     191\n",
              "99     258\n",
              "100    194\n",
              "101    232\n",
              "102    238\n",
              "Name: Efficiency_WhKm, Length: 103, dtype: int64"
            ]
          },
          "metadata": {},
          "execution_count": 12
        }
      ]
    },
    {
      "cell_type": "code",
      "source": [],
      "metadata": {
        "id": "rRD9oVGEC_5F"
      },
      "execution_count": null,
      "outputs": []
    },
    {
      "cell_type": "code",
      "source": [
        "\n",
        "\n",
        "\n",
        "\n",
        "\n",
        "\n",
        "\n",
        "\n",
        "\n",
        "#5.TRAIN and TEST VARIABLES\n",
        "\n",
        "from sklearn.model_selection import train_test_split\n",
        "x_train,x_test,y_train,y_test = train_test_split(x,y,random_state = 0)\n"
      ],
      "metadata": {
        "id": "jKmLlbeR7Jtz"
      },
      "execution_count": null,
      "outputs": []
    },
    {
      "cell_type": "code",
      "source": [
        "print(x.shape)        #103rows and 3columns\n",
        "print(x_train.shape)  #77 rows and 3columns\n",
        "print(x_test.shape)   #26 rows and 3columns"
      ],
      "metadata": {
        "colab": {
          "base_uri": "https://localhost:8080/"
        },
        "id": "KgOiTCxXDuIU",
        "outputId": "2cdcd7a0-6c49-436a-dce3-232c3b12533b"
      },
      "execution_count": null,
      "outputs": [
        {
          "output_type": "stream",
          "name": "stdout",
          "text": [
            "(103, 3)\n",
            "(77, 3)\n",
            "(26, 3)\n"
          ]
        }
      ]
    },
    {
      "cell_type": "code",
      "source": [
        "print(y.shape)       #103 rows and 1 column   \n",
        "print(y_train.shape) #77 rows and 1 column\n",
        "print(y_test.shape)  #26 rows and 1 column"
      ],
      "metadata": {
        "colab": {
          "base_uri": "https://localhost:8080/"
        },
        "id": "blYlR6mJDUlG",
        "outputId": "e8cddf1b-b575-4801-8165-75f0c8b26711"
      },
      "execution_count": null,
      "outputs": [
        {
          "output_type": "stream",
          "name": "stdout",
          "text": [
            "(103,)\n",
            "(77,)\n",
            "(26,)\n"
          ]
        }
      ]
    },
    {
      "cell_type": "code",
      "source": [
        "   # 6. SCALING or NORMALISATION \n",
        "from sklearn.preprocessing import MinMaxScaler\n",
        "scaler = MinMaxScaler()\n",
        "x_train = scaler.fit_transform(x_train)\n",
        "x_test = scaler.fit_transform(x_test)"
      ],
      "metadata": {
        "id": "cUeM68kJEOdS"
      },
      "execution_count": null,
      "outputs": []
    },
    {
      "cell_type": "code",
      "source": [
        "  #7.RUN a CLASSIFIER/REGRESSOR/CLUSTERER\n",
        "from sklearn.linear_model import LinearRegression\n",
        "model = LinearRegression()"
      ],
      "metadata": {
        "id": "ig5UOAaoEtBW"
      },
      "execution_count": null,
      "outputs": []
    },
    {
      "cell_type": "code",
      "source": [
        "   #8.MODEL FITTING\n",
        "model.fit(x_train,y_train)"
      ],
      "metadata": {
        "colab": {
          "base_uri": "https://localhost:8080/"
        },
        "id": "UUAiJIYtExYz",
        "outputId": "166ccc24-42d2-4cd3-92fb-b3f777ce63ab"
      },
      "execution_count": null,
      "outputs": [
        {
          "output_type": "execute_result",
          "data": {
            "text/plain": [
              "LinearRegression()"
            ]
          },
          "metadata": {},
          "execution_count": 18
        }
      ]
    },
    {
      "cell_type": "code",
      "source": [
        "#9.PREDICT THE OUTPUT\n",
        "y_pred = model.predict(x_test)#By taking the input testing data , we predict the output\n",
        "y_pred #PREDICTED VALUES"
      ],
      "metadata": {
        "colab": {
          "base_uri": "https://localhost:8080/"
        },
        "id": "QnxfB4F2E1Yd",
        "outputId": "62f1836d-4305-44a0-cd13-d8b3e0cf686e"
      },
      "execution_count": null,
      "outputs": [
        {
          "output_type": "execute_result",
          "data": {
            "text/plain": [
              "array([176.55208797, 169.92153166, 185.59130691, 219.97021893,\n",
              "       179.5397795 , 182.05419182, 190.63647591, 165.03365447,\n",
              "       173.23379921, 181.03534523, 190.38154909, 177.66075545,\n",
              "       177.22571293, 186.68621065, 174.4026534 , 178.94141005,\n",
              "       174.10432865, 191.86792542, 196.51165659, 183.66200305,\n",
              "       167.13673766, 172.34953485, 180.28521871, 182.99564669,\n",
              "       172.99005552, 171.47212354])"
            ]
          },
          "metadata": {},
          "execution_count": 19
        }
      ]
    },
    {
      "cell_type": "code",
      "source": [
        "y_test #ACTUAL VALUES"
      ],
      "metadata": {
        "colab": {
          "base_uri": "https://localhost:8080/"
        },
        "id": "BcmqXPDGE7bC",
        "outputId": "805c3709-6520-43ad-a361-b881f2f2999d"
      },
      "execution_count": null,
      "outputs": [
        {
          "output_type": "execute_result",
          "data": {
            "text/plain": [
              "26    166\n",
              "60    161\n",
              "2     181\n",
              "51    206\n",
              "71    193\n",
              "76    188\n",
              "16    223\n",
              "66    200\n",
              "56    180\n",
              "48    104\n",
              "54    211\n",
              "95    171\n",
              "98    191\n",
              "13    178\n",
              "7     164\n",
              "30    231\n",
              "22    179\n",
              "24    167\n",
              "33    267\n",
              "8     153\n",
              "43    166\n",
              "75    167\n",
              "3     206\n",
              "73    244\n",
              "85    168\n",
              "74    156\n",
              "Name: Efficiency_WhKm, dtype: int64"
            ]
          },
          "metadata": {},
          "execution_count": 20
        }
      ]
    },
    {
      "cell_type": "code",
      "source": [
        "print(x_train[10]) #these are scaled/normalised values\n"
      ],
      "metadata": {
        "colab": {
          "base_uri": "https://localhost:8080/"
        },
        "id": "_3BhzejuFAUQ",
        "outputId": "097f764b-7fbf-40bf-deed-b212067b3b58"
      },
      "execution_count": null,
      "outputs": [
        {
          "output_type": "stream",
          "name": "stdout",
          "text": [
            "[0.28643216 0.07633588 0.24271845]\n"
          ]
        }
      ]
    },
    {
      "cell_type": "code",
      "source": [
        "  #10.INDIVIDUAL PREDICTION\n",
        "model.predict([x_train[10]])"
      ],
      "metadata": {
        "colab": {
          "base_uri": "https://localhost:8080/"
        },
        "id": "PwaaDd2-FLgF",
        "outputId": "a1b873dc-0647-46c3-ce7e-5d3e025f0f6c"
      },
      "execution_count": null,
      "outputs": [
        {
          "output_type": "execute_result",
          "data": {
            "text/plain": [
              "array([178.92543017])"
            ]
          },
          "metadata": {},
          "execution_count": 26
        }
      ]
    }
  ]
}